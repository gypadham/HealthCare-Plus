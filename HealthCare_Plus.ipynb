{
 "cells": [
  {
   "cell_type": "markdown",
   "id": "19bed27f-ea36-429e-abab-c65b758a451d",
   "metadata": {},
   "source": [
    "# SECTION: A"
   ]
  },
  {
   "cell_type": "markdown",
   "id": "1557eaa8-54f5-4e02-96db-b6f221fa5b91",
   "metadata": {},
   "source": [
    "# 1.HealthCare Plus recorded the daily number of patient admissions for the past 10 days:"
   ]
  },
  {
   "cell_type": "code",
   "execution_count": 2,
   "id": "641f2571-0217-40a4-ba5c-b96ad29e6fd0",
   "metadata": {},
   "outputs": [
    {
     "name": "stdout",
     "output_type": "stream",
     "text": [
      "Mean No. of Patient Admissions: 30.9\n",
      "Median No. of Patient Admissions: 30.5\n",
      "Mode No. of Patient Admissions: 30\n"
     ]
    }
   ],
   "source": [
    "# 1.HealthCare Plus recorded the daily number of patient admissions for the past 10 days:\n",
    "# Compute the mean, median, and mode of patient admissions.\n",
    "import numpy as np\n",
    "import matplotlib.pyplot as plt\n",
    "from statistics import mode\n",
    "\n",
    "# Define the variable with a comment to explain what it represents\n",
    "npa = [32, 28, 35, 30, 29, 27, 31, 34, 33, 30]  # Number of Patient Admissions\n",
    "\n",
    "# Measures to evaluate\n",
    "mean_npa = np.mean(npa)\n",
    "median_npa = np.median(npa)\n",
    "# mode_npa = mode(npa)\n",
    "mode_npa = max(set(npa), key=npa.count)  # Quick way to calculate mode\n",
    "print(\"Mean No. of Patient Admissions:\", mean_npa)\n",
    "print(\"Median No. of Patient Admissions:\", median_npa)\n",
    "print(\"Mode No. of Patient Admissions:\", mode_npa)"
   ]
  },
  {
   "cell_type": "code",
   "execution_count": 3,
   "id": "153a76b2-8da9-4c3e-9f78-5646f3a2774a",
   "metadata": {},
   "outputs": [
    {
     "name": "stdout",
     "output_type": "stream",
     "text": [
      "\n",
      "After 10% Increase:\n",
      "Mean: 33.6\n",
      "Median: 33.5\n",
      "Mode: 33\n"
     ]
    }
   ],
   "source": [
    "# If the hospital increases its admission capacity by 10%, how will this affect the measures of central tendency?\n",
    "npa_increased = [int(x * 1.10) for x in npa]\n",
    "\n",
    "# Measures after increase\n",
    "mean_after = np.mean(npa_increased)\n",
    "median_after = np.median(npa_increased)\n",
    "mode_after = max(set(npa_increased), key=npa_increased.count)\n",
    "\n",
    "print(\"\\nAfter 10% Increase:\")\n",
    "print(\"Mean:\", mean_after)\n",
    "print(\"Median:\", median_after)\n",
    "print(\"Mode:\", mode_after)"
   ]
  },
  {
   "cell_type": "markdown",
   "id": "980fc71c-cb55-4383-b229-6000e40b7145",
   "metadata": {},
   "source": [
    "# 2. The recovery duration (in days) of 10 patients who underwent the same surgery is recorded as follows:"
   ]
  },
  {
   "cell_type": "code",
   "execution_count": 4,
   "id": "89213cdd-674b-4856-a3ba-565394e72084",
   "metadata": {},
   "outputs": [
    {
     "name": "stdout",
     "output_type": "stream",
     "text": [
      "Range: 4\n",
      "Variance: 1.61\n",
      "Standard Deviation: 1.2688577540449522\n"
     ]
    }
   ],
   "source": [
    "# The recovery duration (in days) of 10 patients underwent the same surgery is recorded as follows:\n",
    "# [5, 7, 6, 8, 9, 5, 6, 7, 8, 6]\n",
    "# Calculate the range, variance, and standard deviation.\n",
    "import numpy as np\n",
    "\n",
    "# Original recovery durations\n",
    "rec_days = [5, 7, 6, 8, 9, 5, 6, 7, 8, 6] # Recovery days\n",
    "\n",
    "# Range\n",
    "range_recovery = max(rec_days) - min(rec_days) # max recovery days = 9, min recovery days = 5 (9-5 = 4)\n",
    "\n",
    "# Variance - Variance measures how much the values in a dataset differ from the mean. \n",
    "# A high variance means the recovery times vary a lot from person to person; a low variance means they're pretty consistent.\n",
    "variance_recovery = np.var(rec_days)\n",
    "# Total mean for rec_days = 6.7\n",
    "# Find the difference from the mean (Substract the mean from each value), now square the substracted value and sum the squared difference = 16.1\n",
    "# Divided by the number of values (N = 10), Variance = 16.1/10=1.61\n",
    "\n",
    "# Standard Deviation\n",
    "std_dev_recovery = np.std(rec_days)\n",
    "# From the above step we got variance is 1.61\n",
    "# Standard deviation is Std Dev = Square root of 1.61 = 1.2688 (1.27)\n",
    "\n",
    "print(\"Range:\", range_recovery)\n",
    "print(\"Variance:\", variance_recovery)\n",
    "print(\"Standard Deviation:\", std_dev_recovery)"
   ]
  },
  {
   "cell_type": "code",
   "execution_count": 5,
   "id": "01befadc-9ecc-4567-9351-0b789fc34957",
   "metadata": {},
   "outputs": [
    {
     "name": "stdout",
     "output_type": "stream",
     "text": [
      "New Std Deviation: 1.69 — The recovery durations typically vary about 1.70 days from the average recovery time of 6.75 days.\n"
     ]
    }
   ],
   "source": [
    "# Updated recovery list with two new patients\n",
    "updated_days = rec_days + [4, 10] # rec_days list are [5, 7, 6, 8, 9, 5, 6, 7, 8, 6]\n",
    "# Total new mean = 6.75\n",
    "\n",
    "# New Standard Deviation\n",
    "new_std_dev = np.std(updated_days)\n",
    "\n",
    "print(f\"New Std Deviation: {new_std_dev:.2f} — The recovery durations typically vary about 1.70 days from the average recovery time of 6.75 days.\")"
   ]
  },
  {
   "cell_type": "markdown",
   "id": "28e76c0d-a07d-408e-bbb1-3bb22aa5dfd9",
   "metadata": {},
   "source": [
    "# 3. Patient satisfaction scores (on a scale of 1 to 10) collected from a hospital survey are:"
   ]
  },
  {
   "cell_type": "code",
   "execution_count": 6,
   "id": "9cd17ad1-0135-4f69-a563-11e54ca582d1",
   "metadata": {},
   "outputs": [
    {
     "name": "stdout",
     "output_type": "stream",
     "text": [
      "Skewness: -0.04146734005998014\n",
      "Kurtosis: -1.0145959416162336\n"
     ]
    }
   ],
   "source": [
    "# Patient satisfaction scores\n",
    "# [8, 9, 7, 8, 10, 7, 9, 6, 10, 8, 7, 9]\n",
    "# a. Compute skewness and kurtosis.\n",
    "from scipy.stats import skew, kurtosis\n",
    "import numpy as np\n",
    "\n",
    "# Patient satisfaction scores\n",
    "scores = [8, 9, 7, 8, 10, 7, 9, 6, 10, 8, 7, 9]\n",
    "\n",
    "# Compute skewness and kurtosis\n",
    "skewness = skew(scores)\n",
    "kurt = kurtosis(scores)\n",
    "\n",
    "print(\"Skewness:\", skewness)\n",
    "print(\"Kurtosis:\", kurt)\n",
    "\n",
    "# b. Interpret the results—does the data suggest a normal distribution?\n",
    "\n",
    "# Metric-Meaning\n",
    "# Skewness\t- Measures asymmetry of the distribution\n",
    "# → If ≈ 0: distribution is symmetric (normal)\n",
    "# → If > 0: right-skewed (tail on the right)\n",
    "# → If < 0: left-skewed (tail on the left)\n",
    "# Kurtosis\t- Measures \"tailedness\" of distribution (how heavy the tails are)\n",
    "# → If ≈ 0: similar to normal distribution\n",
    "# → If > 0: heavier tails (more outliers) → leptokurtic\n",
    "# → If < 0: lighter tails → platykurtic\n",
    "# c. If the hospital implements a new customer service initiative and satisfaction scores shift higher, what type of skewness change would you expect?\n",
    "# Scenario-Expected Skewness\n",
    "# More high scores (9s & 10s)-Negative skew\n",
    "# More low scores (1s & 2s)-Positive skew"
   ]
  },
  {
   "cell_type": "markdown",
   "id": "174466d2-c484-4ec1-bf5d-bf3e7b7d485b",
   "metadata": {},
   "source": [
    "# 4. HealthCare Plus wants to analyze the relationship between nurse staffing levels and patient recovery time. "
   ]
  },
  {
   "cell_type": "code",
   "execution_count": 7,
   "id": "392c851e-c839-4d8c-9216-51151c20f7f6",
   "metadata": {
    "jp-MarkdownHeadingCollapsed": true
   },
   "outputs": [
    {
     "name": "stdout",
     "output_type": "stream",
     "text": [
      "Correlation Coefficient between Nurses and Recovery Time: -0.9967569377294725\n",
      "New Correlation after Increasing Nurses: -0.9967569377294725\n"
     ]
    }
   ],
   "source": [
    "# Data from 6 hospital departments is provided:\n",
    "# Number of Nurses = 10, 12, 15, 18, 20, 22\n",
    "# Average Recovery Time (Days) = 8, 7, 6, 5, 4, 3\n",
    "\n",
    "# Compute the correlation coefficient between nurse staffing and patient recovery time.\n",
    "import numpy as np\n",
    "from scipy.stats import pearsonr\n",
    "\n",
    "# Number of Nurses and Average Recovery Time\n",
    "nurses = [10, 12, 15, 18, 20, 22]\n",
    "recovery_time = [8, 7, 6, 5, 4, 3]\n",
    "\n",
    "# a. Compute Pearson Correlation Coefficient\n",
    "correlation, _ = pearsonr(nurses, recovery_time)\n",
    "\n",
    "print(\"Correlation Coefficient between Nurses and Recovery Time:\", correlation)\n",
    "\n",
    "# A result close to –1 implies a strong negative correlation: ⬆️ More nurses → ⬇️ Shorter recovery time.\n",
    "# A result close to 0 means no relationship.\n",
    "# A result close to +1 would mean more nurses lead to longer recovery—which doesn’t apply here.\n",
    "# In this case, we get –1.0, showing a perfect inverse relationship in your sample data.\n",
    "# b. If the hospital increases the number of nurses by 5 per department, how will this affect the recovery time based on the trend?\n",
    "# Add 5 nurses to each department\n",
    "nurses_new = [x + 5 for x in nurses]\n",
    "\n",
    "# Keep recovery_time same (to observe trend impact)\n",
    "correlation_new, _ = pearsonr(nurses_new, recovery_time)\n",
    "print(\"New Correlation after Increasing Nurses:\", correlation_new)\n",
    "# ✅ The pattern remains consistent, correlation will still be –1.0, \n",
    "# meaning the inverse trend is preserved even with scaled nurse staffing."
   ]
  },
  {
   "cell_type": "markdown",
   "id": "a6f838e8-cb09-4c5e-85ab-e4ba8a546aca",
   "metadata": {},
   "source": [
    "# Section B"
   ]
  },
  {
   "cell_type": "markdown",
   "id": "2970899b-6ffb-4f74-8ee5-bef3ec36d4a3",
   "metadata": {},
   "source": [
    "# 5. The hospital claims that the average patient wait time in the emergency department is 30 minutes. "
   ]
  },
  {
   "cell_type": "code",
   "execution_count": 20,
   "id": "fd8fe8e9-e897-46cf-b96d-be002acc0424",
   "metadata": {},
   "outputs": [
    {
     "name": "stdout",
     "output_type": "stream",
     "text": [
      "Sample Mean: 30.50\n",
      "T-statistic: 0.5222\n",
      "P-value: 0.6141\n",
      "Fail to reject the null hypothesis: There's no significant evidence that the wait time differs from 30 minutes.\n"
     ]
    }
   ],
   "source": [
    "# A sample of 10 patient wait times (in minutes) is recorded:\n",
    "# Patient wait time = [32, 29, 31, 34, 33, 27, 30, 28, 35, 26]\n",
    "# a. Test whether the hospital’s claim is valid at a 5% significance level.\n",
    "# H₀ (Null Hypothesis): μ = 30  → The true mean wait time is 30 minutes.\n",
    "\n",
    "# H₁ (Alternative Hypothesis): μ ≠ 30  → The true mean wait time is significantly different from 30 minutes.\n",
    "# This is a two-tailed test since we're checking for any significant difference (not specifically higher or lower).\n",
    "\n",
    "# State the null and alternative hypotheses.\n",
    "# If the wait time signifi cantly exceeds 30 minutes, what changes should the hospital implement to reduce waiting time?\n",
    "import numpy as np\n",
    "from scipy import stats\n",
    "\n",
    "# Sample data\n",
    "wait_times = [32, 29, 31, 34, 33, 27, 30, 28, 35, 26]\n",
    "claimed_mean = 30\n",
    "\n",
    "# Sample statistics\n",
    "sample_mean = np.mean(wait_times)\n",
    "sample_std = np.std(wait_times, ddof=1)\n",
    "n = len(wait_times)\n",
    "\n",
    "# t-statistic calculation\n",
    "t_statistic = (sample_mean - claimed_mean) / (sample_std / np.sqrt(n))\n",
    "\n",
    "# Degrees of freedom\n",
    "df = n - 1\n",
    "\n",
    "# Two-tailed p-value\n",
    "p_value = stats.t.sf(np.abs(t_statistic), df) * 2\n",
    "\n",
    "# Output results\n",
    "print(f\"Sample Mean: {sample_mean:.2f}\")\n",
    "print(f\"T-statistic: {t_statistic:.4f}\")\n",
    "print(f\"P-value: {p_value:.4f}\")\n",
    "\n",
    "# Decision\n",
    "alpha = 0.05\n",
    "if p_value < alpha:\n",
    "    print(\"Reject the null hypothesis: The wait time significantly differs from 30 minutes.\")\n",
    "else:\n",
    "    print(\"Fail to reject the null hypothesis: There's no significant evidence that the wait time differs from 30 minutes.\")"
   ]
  },
  {
   "cell_type": "markdown",
   "id": "4474d68e-0241-4299-906a-c3f096cb2f76",
   "metadata": {},
   "source": [
    "# Recommendations If Wait Time Significantly Exceeds 30 Minutes\n",
    "If the test reveals a significantly higher mean wait time, the hospital might consider:\n",
    "🔄 Process Optimization: Streamline triage or registration procedures.\n",
    "👥 Staff Allocation: Increase emergency staff during peak hours.\n",
    "🗓️ Appointment Scheduling: For non-critical cases, explore scheduled slots or fast-track lanes."
   ]
  },
  {
   "cell_type": "markdown",
   "id": "8031da92-e042-4799-9924-09966e755f6b",
   "metadata": {},
   "source": [
    "# 6. A survey was conducted on hospital cleanliness and patient satisfaction. The following data was collected:"
   ]
  },
  {
   "cell_type": "raw",
   "id": "c5521b5c-b70c-4faa-b3be-bbcf87fb820a",
   "metadata": {},
   "source": [
    "# Perform an analysis to check whether hospital cleanliness and patient satisfaction are dependent.\n",
    "# If cleanliness ratings improve, how do you expect the distribution of satisfi ed and unsatisfi ed patients to change"
   ]
  },
  {
   "cell_type": "raw",
   "id": "e758f13e-306d-489d-934e-388cca2929b2",
   "metadata": {},
   "source": [
    "# This is a classic Chi-Square Test of Independence scenario, used to determine if there's a significant association between two categorical variables"
   ]
  },
  {
   "cell_type": "raw",
   "id": "8f8adff2-3a90-4450-b190-af1ad84ea0c8",
   "metadata": {},
   "source": [
    "# Organize the Data in a Contingency Table\n",
    "Cleanliness Rating - High, Medium, Low\n",
    "Satisfied Patients - 90, 60, 30 = Total- 180\n",
    "Unsatisfied Patients - 10, 40, 70 = Total - 120\n",
    "Row Total - 300"
   ]
  },
  {
   "cell_type": "raw",
   "id": "c699a5bc-5e55-42b9-b57f-fea9c09f8c96",
   "metadata": {},
   "source": [
    "# State Hypothesis\n",
    "H₀ (Null Hypothesis): Cleanliness rating and patient satisfaction are independent.\n",
    "H₁ (Alternative Hypothesis): Cleanliness rating and patient satisfaction are dependent.\n",
    "# Calculate Expected Frequencies\n",
    "Formula - Expected frequency (E) = (Row Total × Column Total) / Grand Total"
   ]
  },
  {
   "cell_type": "code",
   "execution_count": null,
   "id": "bcb76db1-02df-4f2a-a697-1cb4d244fd6f",
   "metadata": {},
   "outputs": [],
   "source": [
    "✅Final Expected Frequency Table:\n",
    "Cleanliness Rating - High, Medium, Low\n",
    "Satisfied (E) Patients - 60, 60, 60\n",
    "High + Satisfied E = (100*180/300) = 60\n",
    "Medium + Satisfied E = (100*180/300) = 60\n",
    "Low + Satisfied E = (100*180/300) = 60\n",
    "Unsatisfied (E) Patients - 40, 40, 40\n",
    "High + Unsatisfied E = (100+120/300) = 40\n",
    "Medium + Unsatisfied E = (100+120/300) = 40\n",
    "Low + Unsatisfied E = (100+120/300) = 40"
   ]
  },
  {
   "cell_type": "markdown",
   "id": "6eea6a84-9a83-4b5a-9750-d0cb6a247880",
   "metadata": {},
   "source": [
    "# Inline:  The formula for mean is $\\mu = \\frac{\\sum x}{n}$.\n",
    "Block:\n",
    "$$\\chi^2 = \\sum \\frac{(O - E)^2}{E}$$\n",
    "Here O is Observed and E is Expected"
   ]
  },
  {
   "cell_type": "raw",
   "id": "a8f6c500-d801-498a-a7bc-2590c1ea2b65",
   "metadata": {},
   "source": [
    "# Calculate chi_square statistic:\n",
    "High + Satisfied: $$\\frac{(90 - 60)^2}{60} = \\frac{900}{60} = 15$$\n",
    "High + Unsatisfied: $$\\frac{(10 - 40)^2}{40} = \\frac{900}{40} = 22.5$$\n",
    "Medium + Satisfied: $$\\frac{(60 - 60)^2}{60} = 0$$\n",
    "Medium + Unsatisfied: $$\\frac{(40 - 40)^2}{40} = 0$$\n",
    "Low + Satisfied: $$\\frac{(30 - 60)^2}{60} = \\frac{900}{60} = 15$$\n",
    "Low + Unsatisfied: $$\\frac{(70 - 40)^2}{40} = \\frac{900}{40} = 22.5$$\n",
    "Total Chi-Square Value: \n",
    "χ² = 15 + 22.5 + 0 + 0 + 15 + 22.5 = 75\n",
    "\n",
    "# Determine Degrees of Freedom and Critical Value\n",
    "Degrees of Freedom (df): $$(r - 1)(c - 1) = (3 - 1)(2 - 1) = 2$$\n",
    "Critical value at 0.05 significance level (from table): 5.991\n",
    "\n",
    "# Making Decision\n",
    "Since χ² = 75 > 5.991, we reject the null hypothesis.\n",
    "✅ Conclusion: There is a statistically significant relationship between cleanliness and patient satisfaction.\n",
    "\n",
    "# If the hospital improves cleanliness ratings (moving toward High):\n",
    "Expect more Satisfied Patients 💚\n",
    "Expect fewer Unsatisfied Patients 💢\n",
    "Better environment → better experience → better outcomes."
   ]
  },
  {
   "cell_type": "markdown",
   "id": "51af8e20-e70b-4368-9b00-ce60d02b6b4a",
   "metadata": {},
   "source": [
    "# 7. The hospital tested three different treatment methods (A, B, and C) for managing post-surgery pain. The recovery durations (in days) under each treatment are:"
   ]
  },
  {
   "cell_type": "raw",
   "id": "30bc4992-63c0-4076-bf9a-8a2aa5a9b0fc",
   "metadata": {},
   "source": [
    "# Different treatment methods\n",
    "Treatment A: [5, 6, 7, 5, 6]\n",
    "Treatment B: [8, 9, 7, 8, 10]\n",
    "Treatment C: [4, 5, 6, 5, 4]"
   ]
  },
  {
   "cell_type": "raw",
   "id": "6de7e760-5d02-4051-95f3-c6b2d53ee912",
   "metadata": {},
   "source": [
    "# From the above scenario we can use ANOVA (Analysis of Variance), since we are comparing more than two groups.\n",
    "1. Hypotheses Setup\n",
    "🎯 Null Hypothesis (H₀):\n",
    "The average recovery time is the same across all treatments (A, B, and C). That is: $$\\mu_A = \\mu_B = \\mu_C$$\n",
    "\n",
    "🧪 Alternative Hypothesis (H₁):\n",
    "At least one treatment has a different average recovery time. That is: $$\\mu_i \\ne \\mu_j \\quad \\text{for some } i, j$$"
   ]
  },
  {
   "cell_type": "code",
   "execution_count": 32,
   "id": "12fb41a4-5e25-44ee-9160-41ec4b2e4106",
   "metadata": {},
   "outputs": [
    {
     "data": {
      "text/plain": [
       "F_onewayResult(statistic=19.18518518518518, pvalue=0.0001828254331459655)"
      ]
     },
     "execution_count": 32,
     "metadata": {},
     "output_type": "execute_result"
    }
   ],
   "source": [
    "# 🧠 4. If Treatment D Is Introduced…\n",
    "To assess its effectiveness, the hospital should collect:\n",
    "✅ Recovery duration data for patients receiving Treatment D.\n",
    "🧑‍🤝‍🧑 Sample size: Equal number of patients as for A, B, and C (e.g., 5+ per group).\n",
    "⚖️ Controlled conditions: Same post-surgery care environment to minimize external factors.\n",
    "📅 Timeframe: Collect over similar recovery periods.\n",
    "📊 Compare using ANOVA with all four treatments (A, B, C, and D). Now re-run ANOVA to see the results"
   ]
  },
  {
   "cell_type": "code",
   "execution_count": 52,
   "id": "ba2bf246-e2ee-4192-b7de-4d322e21d59c",
   "metadata": {},
   "outputs": [
    {
     "name": "stdout",
     "output_type": "stream",
     "text": [
      "Treatment D Recovery Durations: [7, 6, 5, 8, 5]\n",
      "\n",
      "ANALYSIS OF RECOVERY DURATIONS\n",
      "-------------------------------\n",
      "F-statistic: 10.4848\n",
      "P-value: 0.0005\n",
      "Result: Reject H₀ → Significant difference in recovery times among treatments.\n"
     ]
    }
   ],
   "source": [
    "import random\n",
    "from scipy import stats\n",
    "\n",
    "# Recovery durations for Treatments A, B, and C\n",
    "treatment_A = [5, 6, 7, 5, 6]\n",
    "treatment_B = [8, 9, 7, 8, 10]\n",
    "treatment_C = [4, 5, 6, 5, 4]\n",
    "\n",
    "# Simulate 5 recovery durations for Treatment D\n",
    "treatment_D = [random.randint(5, 8) for _ in range(5)]\n",
    "print(\"Treatment D Recovery Durations:\", treatment_D)\n",
    "\n",
    "# Perform one-way ANOVA test including Treatment D\n",
    "f_statistic, p_value = stats.f_oneway(treatment_A, treatment_B, treatment_C, treatment_D)\n",
    "\n",
    "# Display results\n",
    "print(\"\\nANALYSIS OF RECOVERY DURATIONS\")\n",
    "print(\"-------------------------------\")\n",
    "print(f\"F-statistic: {f_statistic:.4f}\")\n",
    "print(f\"P-value: {p_value:.4f}\")\n",
    "\n",
    "# Interpretation\n",
    "alpha = 0.05\n",
    "if p_value < alpha:\n",
    "    print(\"Result: Reject H₀ → Significant difference in recovery times among treatments.\")\n",
    "else:\n",
    "    print(\"Result: Fail to reject H₀ → No significant difference in recovery times.\")"
   ]
  },
  {
   "cell_type": "raw",
   "id": "a7a9fdf5-6a64-44e5-95be-112874cbade1",
   "metadata": {},
   "source": [
    "🛠️ Treatment D is generated dynamically every time when run it.\n",
    "You’ll see the values of treatment_D printed so you know what’s being tested.\n",
    "The ANOVA test compares all four treatments and prints a clear decision based on the 5% significance level."
   ]
  },
  {
   "cell_type": "markdown",
   "id": "8048cc4e-823b-4f40-a1a1-9f174a89f1ac",
   "metadata": {},
   "source": [
    "# 8. The hospital administration time (in minutes) for 12 patients is recorded as:\n",
    "admin_time = [12, 15, 14, 16, 18, 13, 14, 17, 15, 19, 16, 14] # in minutes"
   ]
  },
  {
   "cell_type": "raw",
   "id": "bd77162b-7d2f-4985-bfe6-ff2c60216038",
   "metadata": {},
   "source": [
    "We can assess normality using:\n",
    "📊 Histogram + Boxplot (visual cues)\n",
    "📈 Shapiro-Wilk Test (statistical test)\n",
    "📌 Skewness & Kurtosis"
   ]
  },
  {
   "cell_type": "code",
   "execution_count": 62,
   "id": "9d5fe8c1-5537-4631-af8e-e4ddf6033b51",
   "metadata": {},
   "outputs": [
    {
     "data": {
      "image/png": "[encoded data removed]",
      "text/plain": [
       "<Figure size 1200x500 with 2 Axes>"
      ]
     },
     "metadata": {},
     "output_type": "display_data"
    },
    {
     "name": "stdout",
     "output_type": "stream",
     "text": [
      "Shapiro-Wilk Test → W-statistic = 0.9709, p-value = 0.9201\n",
      "Skewness: 0.3098\n",
      "Kurtosis: -0.7028\n",
      "✅ Likely follows a normal distribution.\n"
     ]
    }
   ],
   "source": [
    "import matplotlib.pyplot as plt\n",
    "import seaborn as sns\n",
    "from scipy import stats\n",
    "import numpy as np\n",
    "\n",
    "admin_time = [12, 15, 14, 16, 18, 13, 14, 17, 15, 19, 16, 14] # in minutes\n",
    "\n",
    "# Histogram and Boxplot\n",
    "plt.figure(figsize=(12, 5))\n",
    "\n",
    "plt.subplot(1, 2, 1)\n",
    "sns.histplot(admin_time, bins=6, kde=True, color='skyblue')\n",
    "plt.title(\"Histogram of Administration Times\")\n",
    "\n",
    "plt.subplot(1, 2, 2)\n",
    "sns.boxplot(x=admin_time, color='lightgreen')\n",
    "plt.title(\"Boxplot of Administration Times\")\n",
    "\n",
    "plt.show()\n",
    "\n",
    "# Shapiro-Wilk Test\n",
    "statistic, p_value = stats.shapiro(admin_time)\n",
    "print(f\"Shapiro-Wilk Test → W-statistic = {statistic:.4f}, p-value = {p_value:.4f}\")\n",
    "\n",
    "# Skewness and Kurtosis\n",
    "print(f\"Skewness: {stats.skew(admin_time):.4f}\")\n",
    "print(f\"Kurtosis: {stats.kurtosis(admin_time):.4f}\")\n",
    "\n",
    "# Interpretation\n",
    "alpha = 0.05\n",
    "if p_value > alpha:\n",
    "    print(\"✅ Likely follows a normal distribution.\")\n",
    "else:\n",
    "    print(\"❌ Data does not follow a normal distribution.\")"
   ]
  },
  {
   "cell_type": "raw",
   "id": "474d7673-1f41-4f03-b3c0-ad03025c704f",
   "metadata": {},
   "source": [
    "🔍 Interpretation\n",
    "Shapiro-Wilk p-value > 0.05? → Data is likely normal.\n",
    "Skewness near 0 and Kurtosis near 0 support normality.\n",
    "Visuals should show a bell-shaped curve with symmetrical boxplot."
   ]
  },
  {
   "cell_type": "raw",
   "id": "f952f4cb-de89-45b8-ab02-61e5d6af3ac2",
   "metadata": {},
   "source": [
    "🏥 Explain why this analysis is important in healthcare data.\n",
    "Analyzing distribution helps with:\n",
    "📈 Accurate statistical modeling: Many healthcare algorithms assume normality.\n",
    "🧪 Valid hypothesis testing: Parametric tests (e.g. t-tests, ANOVA) require normal data.\n",
    "🔍 Outlier detection: Skewed data can hide extreme values.\n",
    "🕒 Workflow optimization: If admin times are predictable, staffing can be better managed.\n",
    "In short: it’s the difference between reactive chaos and proactive efficiency in hospital operations."
   ]
  },
  {
   "cell_type": "raw",
   "id": "85e1ea09-300a-46b7-b355-6f89cf84be57",
   "metadata": {},
   "source": [
    "🚨If emergency cases increase, how would you expect the distribution of administration times to change?\n",
    "💥 Increase variability in administration times.\n",
    "⚠️ Introduce right-skew: more longer wait times due to crowding.\n",
    "📊 Push the distribution to non-normal, possibly bimodal if emergencies spike at specific hours."
   ]
  },
  {
   "cell_type": "markdown",
   "id": "5792d36b-9e4e-4735-b2df-eb6e527a0bde",
   "metadata": {},
   "source": [
    "# 9. The hospital is studying the distribution of patient arrival times in the emergency department. Historical data suggests that emergency cases arrive at an average rate of 5 per hour."
   ]
  },
  {
   "cell_type": "raw",
   "id": "29ba11d1-9671-4ff7-810b-ccf571499be9",
   "metadata": {},
   "source": [
    "# Model this scenario using an appropriate probability distribution.\n",
    "📊 1. Model the Scenario\n",
    "When events occur independently and at a constant average rate, we use the Poisson distribution:\n",
    "Where:\n",
    "\n",
    "λ (lambda) is the average rate (5 patients/hour here)\n",
    "k is the number of events (patients arriving)\n",
    "e is Euler’s number ≈ 2.718\n",
    "X is a random variable representing the number of arrivals\n",
    "\n",
    "So in this case:\n",
    "λ = 5\n",
    "Time interval = 1 hour\n",
    "X follows Poisson(λ = 5)"
   ]
  },
  {
   "cell_type": "code",
   "execution_count": 73,
   "id": "b7e13541-8fa3-47da-982f-dabbd8b019b6",
   "metadata": {},
   "outputs": [
    {
     "name": "stdout",
     "output_type": "stream",
     "text": [
      "Probability of exactly 3 emergency cases in next hour: 0.1404 (14.04%)\n"
     ]
    }
   ],
   "source": [
    "import math\n",
    "\n",
    "# Parameters\n",
    "lambda_val = 5\n",
    "k = 3\n",
    "\n",
    "# Poisson formula\n",
    "probability = (math.exp(-lambda_val) * (lambda_val ** k)) / math.factorial(k)\n",
    "\n",
    "# Output both decimal and percentage\n",
    "print(f\"Probability of exactly 3 emergency cases in next hour: {probability:.4f} ({probability * 100:.2f}%)\")"
   ]
  },
  {
   "cell_type": "raw",
   "id": "eae18d8e-1be2-4c17-8a51-d96bdac37a4c",
   "metadata": {},
   "source": [
    "🚨 If a major accident occurs in the city, how would this affect the probability distribution of emergency arrivals?\n",
    "If a major accident occurs:\n",
    "λ increases sharply → e.g., 5 → 10 or higher patients per hour.\n",
    "The Poisson curve shifts rightward: higher probability of large k (e.g., 8, 10, 12 patients/hour).\n",
    "Distribution may look more skewed or spread-out, potentially requiring:\n",
    "❗ Modified Poisson process (non-homogeneous)\n",
    "🧮 Real-time modeling (e.g., using machine learning for dynamic λ)\n",
    "📊 Reallocation of hospital resources based on surge predictions"
   ]
  },
  {
   "cell_type": "markdown",
   "id": "d580c0d5-bddb-4fb2-a74d-09d01c948269",
   "metadata": {},
   "source": [
    "# 10. The number of surgeries performed per day in the hospital follows a specifi c distribution pattern. Historical data shows the following frequencies:"
   ]
  },
  {
   "cell_type": "raw",
   "id": "6499608e-fcf8-4667-a73b-669386d9eca2",
   "metadata": {},
   "source": [
    "# Identify and justify the type of probability distribution that best fi ts this data.\n",
    "surgeries = [0, 1, 2, 3, 4, 5] # per day\n",
    "frequency = [5, 12, 18, 22, 15, 8] # out of total days\n",
    "total_days = sum(frequency)\n",
    "#🧠 Reasoning:\n",
    "# Data is discrete (you can’t perform 2.5 surgeries).\n",
    "# Each outcome has a countable frequency.\n",
    "# Probabilities don’t seem symmetrical, but are centered around 3 (the mode).\n",
    "# Best fit? 📌 Empirical discrete distribution, often approximated by:\n",
    "# Poisson distribution (if surgeries happen independently and randomly)\n",
    "# Or treat as a custom probability mass function (PMF) based on historical frequencies\n",
    "\n",
    "# Total observations:\n",
    "total_days = sum([5, 12, 18, 22, 15, 8]) = 80\n",
    "\n",
    "📈 Step 2: Calculate Probabilities\n",
    "P(0) = 5 / 80 = 0.0625  \n",
    "P(1) = 12 / 80 = 0.15  \n",
    "P(2) = 18 / 80 = 0.225  \n",
    "P(3) = 22 / 80 = 0.275  \n",
    "P(4) = 15 / 80 = 0.1875  \n",
    "P(5) = 8 / 80 = 0.1\n",
    "\n",
    "📈Step 3: Calculate Expected Value\n",
    "expected = (0 * 0.0625) + \n",
    "           (1 * 0.15) + \n",
    "           (2 * 0.225) + \n",
    "           (3 * 0.275) + \n",
    "           (4 * 0.1875) + \n",
    "           (5 * 0.1)\n",
    "\n",
    "✅Expected = 0 + 0.15 + 0.45 + 0.825 + 0.75 + 0.5 = 2.675\n",
    "\n",
    "✅ Final Expected Surgeries per Day:\n",
    "E(X) = 2.675\n",
    "\n",
    "# Calculate the expected number of surgeries performed per day.\n",
    "# If a new surgical team is hired, how will this affect the probability distribution of daily surgeries?"
   ]
  },
  {
   "cell_type": "code",
   "execution_count": 89,
   "id": "bad0b48c-b9f3-4a73-90a4-25521469281f",
   "metadata": {},
   "outputs": [
    {
     "name": "stdout",
     "output_type": "stream",
     "text": [
      "Expected surgeries per day: 2.68 That means the hospital can expect about 3 surgeries per day on average.\n"
     ]
    }
   ],
   "source": [
    "surgeries = [0, 1, 2, 3, 4, 5] # per day\n",
    "frequency = [5, 12, 18, 22, 15, 8] # out of total days\n",
    "total_days = sum(frequency)\n",
    "# Calculate probabilities\n",
    "probabilities = [f / total_days for f in frequency]\n",
    "# Calculate expected value\n",
    "expected_surgeries = sum(x * p for x, p in zip(surgeries, probabilities))\n",
    "print(f\"Expected surgeries per day: {expected_surgeries:.2f}\", \"That means the hospital can expect about 3 surgeries per day on average.\")"
   ]
  },
  {
   "cell_type": "raw",
   "id": "95818d76-ca6c-493f-9340-214de3c49c58",
   "metadata": {},
   "source": [
    "# If a new surgical team is hired, how will this affect the probability distribution of daily surgeries?\n",
    "🚨 Step 3: Impact of Hiring a New Surgical Team\n",
    "If the hospital hires a new team, here’s what could change:\n",
    "⚡ Increased capacity → Distribution may shift rightward\n",
    "⬆️ More days with 4, 5, or 6+ surgeries\n",
    "📈 Distribution could become skewed right with a higher mean and variance\n",
    "💡 Probability of zero or one surgery likely drops, while higher counts rise\n",
    "This could turn current distribution into a new one—perhaps even resembling a Poisson distribution with a higher λ, or a binomial model if scheduling is more structured."
   ]
  }
 ],
 "metadata": {
  "kernelspec": {
   "display_name": "Python [conda env:base] *",
   "language": "python",
   "name": "conda-base-py"
  },
  "language_info": {
   "codemirror_mode": {
    "name": "ipython",
    "version": 3
   },
   "file_extension": ".py",
   "mimetype": "text/x-python",
   "name": "python",
   "nbconvert_exporter": "python",
   "pygments_lexer": "ipython3",
   "version": "3.12.7"
  }
 },
 "nbformat": 4,
 "nbformat_minor": 5
}
